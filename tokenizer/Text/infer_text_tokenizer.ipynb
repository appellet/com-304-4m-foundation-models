{
  "cells": [
    {
      "cell_type": "markdown",
      "id": "oAJsQnm-k6iZ",
      "metadata": {
        "id": "oAJsQnm-k6iZ"
      },
      "source": [
        "# **1-  Initialization and Configuration**"
      ]
    },
    {
      "cell_type": "code",
      "execution_count": 7,
      "id": "1cuB80pYNk2n",
      "metadata": {
        "colab": {
          "base_uri": "https://localhost:8080/"
        },
        "id": "1cuB80pYNk2n",
        "outputId": "b685189e-7da4-4a98-d012-4abb5b69c104"
      },
      "outputs": [
        {
          "name": "stdout",
          "output_type": "stream",
          "text": [
            "Archive:  /content/result_tokenizer_gpt2.zip\n",
            "  End-of-central-directory signature not found.  Either this file is not\n",
            "  a zipfile, or it constitutes one disk of a multi-part archive.  In the\n",
            "  latter case the central directory and zipfile comment will be found on\n",
            "  the last disk(s) of this archive.\n",
            "unzip:  cannot find zipfile directory in one of /content/result_tokenizer_gpt2.zip or\n",
            "        /content/result_tokenizer_gpt2.zip.zip, and cannot find /content/result_tokenizer_gpt2.zip.ZIP, period.\n"
          ]
        }
      ],
      "source": [
        "\n",
        "!unzip /content/result_tokenizer_gpt2.zip -d /content/"
      ]
    },
    {
      "cell_type": "code",
      "execution_count": 8,
      "id": "1c846f5f",
      "metadata": {
        "colab": {
          "base_uri": "https://localhost:8080/"
        },
        "id": "1c846f5f",
        "outputId": "7d75dae9-30ae-4014-fda2-8c5ae4b9badb"
      },
      "outputs": [
        {
          "data": {
            "text/plain": [
              "GPT2LMHeadModel(\n",
              "  (transformer): GPT2Model(\n",
              "    (wte): Embedding(50257, 768)\n",
              "    (wpe): Embedding(1024, 768)\n",
              "    (drop): Dropout(p=0.1, inplace=False)\n",
              "    (h): ModuleList(\n",
              "      (0-11): 12 x GPT2Block(\n",
              "        (ln_1): LayerNorm((768,), eps=1e-05, elementwise_affine=True)\n",
              "        (attn): GPT2Attention(\n",
              "          (c_attn): Conv1D(nf=2304, nx=768)\n",
              "          (c_proj): Conv1D(nf=768, nx=768)\n",
              "          (attn_dropout): Dropout(p=0.1, inplace=False)\n",
              "          (resid_dropout): Dropout(p=0.1, inplace=False)\n",
              "        )\n",
              "        (ln_2): LayerNorm((768,), eps=1e-05, elementwise_affine=True)\n",
              "        (mlp): GPT2MLP(\n",
              "          (c_fc): Conv1D(nf=3072, nx=768)\n",
              "          (c_proj): Conv1D(nf=768, nx=3072)\n",
              "          (act): NewGELUActivation()\n",
              "          (dropout): Dropout(p=0.1, inplace=False)\n",
              "        )\n",
              "      )\n",
              "    )\n",
              "    (ln_f): LayerNorm((768,), eps=1e-05, elementwise_affine=True)\n",
              "  )\n",
              "  (lm_head): Linear(in_features=768, out_features=50257, bias=False)\n",
              ")"
            ]
          },
          "execution_count": 8,
          "metadata": {},
          "output_type": "execute_result"
        }
      ],
      "source": [
        "# Cell 1: Imports and Setup\n",
        "import torch\n",
        "from pathlib import Path\n",
        "from transformers import GPT2LMHeadModel, GPT2TokenizerFast\n",
        "import matplotlib.pyplot as plt\n",
        "\n",
        "# Paths to our checkpoints and tokenizers\n",
        "default_model = \"gpt2\"\n",
        "custom_ckpt = \"/content/checkpoint_texttokenizer\"\n",
        "\n",
        "# Load model once\n",
        "device = torch.device(\"cuda\" if torch.cuda.is_available() else \"cpu\")\n",
        "model = GPT2LMHeadModel.from_pretrained(default_model).to(device)\n",
        "model.eval()"
      ]
    },
    {
      "cell_type": "code",
      "execution_count": 9,
      "id": "a925bcf2",
      "metadata": {
        "colab": {
          "base_uri": "https://localhost:8080/",
          "height": 180,
          "referenced_widgets": [
            "79a53a91019c451dabd037dda548edce",
            "d7a3eb801bad4d219369c0ab92b39eb5",
            "94136b6dbbf4431cab90e7fcc6f9fd20",
            "e64f0caa6eef4fc5bb5db1f5b1c0a8bc",
            "f3bacb4d85f64ca8ac66abce0afc902c",
            "6339964802d841b99ca0c2e856187552",
            "5943300b53cb49fa8f3c0adc73c37f86",
            "300a287992024b90a1893aaa900c6e14",
            "6c0e12335855453793712429d3197000",
            "bfb24ebb37444f809890f6c8e90e5150",
            "227907a73a5444708c67c4d3b95d7335",
            "647121a702f54c78b99a41abd58528b7",
            "06bc8e53f7424c089faec1a9ff574b44",
            "0411e605ccbf4dc2b7b27f8bc72b011e",
            "aeff650941dd46a59f3103219242cc29",
            "1d95a687d00040ce8abb4a77666c8e4e",
            "322e9f122d93406d9a920f0c5587ae14",
            "f462e47bd4794445a1eb2522e6defeaa",
            "eed11f0f6a984804ab2aaaba0d871044",
            "ce3daedcae4a4004b09a61d5494f8f7d",
            "d01a1bc795b2479d925ee4db152a8af7",
            "107f1013ddb54879b04a856db9a86cc6",
            "1fc2365f4c9142deaf331cbce445a234",
            "50ffaa57b030401cb807e9e10fbcbc55",
            "0f6d03cb14284c30bf1f60f6567ecb72",
            "18bcec1948f0410b9dac890d4343987f",
            "848230756fb943308f350f7e61b12b15",
            "f069133bfdcf49a18701b48bf2eb4e61",
            "df2f27a724b240999911cb06f2d11c5d",
            "1fa4bd0211924bf79cad87f577883d43",
            "682d47ddfbf64f589e20816ac9334283",
            "1910e570ac53425399f2968f92dce41a",
            "6810e932481c4012878068e28134ae5a",
            "48b8125a32514004aff418bf67b085f0",
            "31dff09cde47409b82857575620d06d1",
            "a615ca77c1114d1e9a47c13d3355161d",
            "9a153688936f40759a92865e6ae7c30b",
            "b436967f576b4e88a9673915b3636474",
            "abc99da75e3c4164881eac78c3077c8e",
            "4c5d41019aa1499080379f4c95d8fbcf",
            "9c137d3a601042b89a39787e8e9492b8",
            "c92f07a7a7bf4d38b58e5a35603939c9",
            "6c7d0c89d8074fccbfc443bcf3ef9cdf",
            "5287a168b08c4d0e97d2c6783e9736f5"
          ]
        },
        "id": "a925bcf2",
        "outputId": "24059d3d-ea2a-4ef2-ede6-2e49e3737240"
      },
      "outputs": [
        {
          "data": {
            "application/vnd.jupyter.widget-view+json": {
              "model_id": "79a53a91019c451dabd037dda548edce",
              "version_major": 2,
              "version_minor": 0
            },
            "text/plain": [
              "tokenizer_config.json:   0%|          | 0.00/26.0 [00:00<?, ?B/s]"
            ]
          },
          "metadata": {},
          "output_type": "display_data"
        },
        {
          "data": {
            "application/vnd.jupyter.widget-view+json": {
              "model_id": "647121a702f54c78b99a41abd58528b7",
              "version_major": 2,
              "version_minor": 0
            },
            "text/plain": [
              "vocab.json:   0%|          | 0.00/1.04M [00:00<?, ?B/s]"
            ]
          },
          "metadata": {},
          "output_type": "display_data"
        },
        {
          "data": {
            "application/vnd.jupyter.widget-view+json": {
              "model_id": "1fc2365f4c9142deaf331cbce445a234",
              "version_major": 2,
              "version_minor": 0
            },
            "text/plain": [
              "merges.txt:   0%|          | 0.00/456k [00:00<?, ?B/s]"
            ]
          },
          "metadata": {},
          "output_type": "display_data"
        },
        {
          "data": {
            "application/vnd.jupyter.widget-view+json": {
              "model_id": "48b8125a32514004aff418bf67b085f0",
              "version_major": 2,
              "version_minor": 0
            },
            "text/plain": [
              "tokenizer.json:   0%|          | 0.00/1.36M [00:00<?, ?B/s]"
            ]
          },
          "metadata": {},
          "output_type": "display_data"
        },
        {
          "name": "stdout",
          "output_type": "stream",
          "text": [
            "Base vocab size: 50257\n",
            "Custom vocab size: 15057\n"
          ]
        }
      ],
      "source": [
        "# Cell 2: Load Tokenizers\n",
        "base_tok = GPT2TokenizerFast.from_pretrained(default_model)\n",
        "custom_tok = GPT2TokenizerFast.from_pretrained(\n",
        "    custom_ckpt,\n",
        "    unk_token=\"<unk>\", pad_token=\"<pad>\", bos_token=\"<s>\", eos_token=\"</s>\"\n",
        ")\n",
        "\n",
        "print(f\"Base vocab size: {len(base_tok)}\")\n",
        "print(f\"Custom vocab size: {len(custom_tok)}\")"
      ]
    },
    {
      "cell_type": "markdown",
      "id": "w8u6qzQ8YVif",
      "metadata": {
        "id": "w8u6qzQ8YVif"
      },
      "source": [
        "# **2- Key Insights From Our Custom Tokenizer**"
      ]
    },
    {
      "cell_type": "markdown",
      "id": "w58vzF5wZZV6",
      "metadata": {
        "id": "w58vzF5wZZV6"
      },
      "source": [
        "# A- Corpus Overview : Sentence Lengths and Token Distribution\n"
      ]
    },
    {
      "cell_type": "code",
      "execution_count": 33,
      "id": "Jixcgw7FXztF",
      "metadata": {
        "colab": {
          "base_uri": "https://localhost:8080/",
          "height": 349
        },
        "id": "Jixcgw7FXztF",
        "outputId": "5aac2b8d-8917-463c-f63b-ba1f9757ce8f"
      },
      "outputs": [
        {
          "data": {
            "image/png": "[encoded data removed]",
            "text/plain": [
              "<Figure size 1200x600 with 1 Axes>"
            ]
          },
          "metadata": {},
          "output_type": "display_data"
        }
      ],
      "source": [
        "# Cell 3: Sentence Length & Token Frequency Analysis\n",
        "import matplotlib.pyplot as plt\n",
        "from collections import Counter\n",
        "from pathlib import Path\n",
        "\n",
        "# 1) We Load all sentences and compute lengths in words\n",
        "lines = Path(\"sentences.txt\").read_text(encoding=\"utf-8\").splitlines()\n",
        "lengths_words = [len(line.split()) for line in lines]\n",
        "\n",
        "# 2) We Build token frequency using our custom tokenizer\n",
        "freq = Counter()\n",
        "for line in lines:\n",
        "    freq.update(custom_tok(line).input_ids)\n",
        "top_tokens = freq.most_common(30)\n",
        "tokens, counts = zip(*[(custom_tok.convert_ids_to_tokens(tid), cnt) for tid, cnt in top_tokens])\n",
        "\n",
        "# 3) We Compute cumulative vocabulary coverage\n",
        "total_count = sum(freq.values())\n",
        "sorted_counts = [cnt for _, cnt in freq.most_common()]\n",
        "cum_coverage = [sum(sorted_counts[:i+1]) / total_count for i in range(len(sorted_counts))]\n",
        "\n",
        "# Create subplots for cleaner display\n",
        "\n",
        "\n",
        "# Plot 1: Sentence length histogram\n",
        "fig1, ax1 = plt.subplots(figsize=(12, 6))\n",
        "ax1.hist(lengths_words, bins=50, color='skyblue', edgecolor='black')\n",
        "ax1.set_title(\"Sentence Length Distribution (words)\")\n",
        "ax1.set_xlabel(\"Number of words per sentence\")\n",
        "ax1.set_ylabel(\"Sentence count\")\n",
        "ax1.grid(True)\n",
        "fig1.tight_layout()\n",
        "plt.show()\n",
        "\n",
        "\n",
        "\n"
      ]
    },
    {
      "cell_type": "markdown",
      "id": "GXwLQoKMmsbw",
      "metadata": {
        "id": "GXwLQoKMmsbw"
      },
      "source": [
        ">Sentence Length Distribution :\n",
        "\n",
        "We can see from the histogram that most of our sentences fall between 5 and 25 words, with a peak around 10–15 words. Only a small fraction exceed 50 words, and there are virtually no ultra-long sentences above 100 words. This tells us that our choice of a maximum sequence length around 128 tokens (roughly 100 words) will cover almost all examples without truncation. However, we also notice a non-negligible tail of very short sentences (< 5 words) which may be mostly noise or very short phrases;\n"
      ]
    },
    {
      "cell_type": "code",
      "execution_count": 31,
      "id": "5PmGB30ClbWZ",
      "metadata": {
        "colab": {
          "base_uri": "https://localhost:8080/",
          "height": 453
        },
        "id": "5PmGB30ClbWZ",
        "outputId": "c5e1f3f5-49d6-4bff-f7dc-734fb1422d1b"
      },
      "outputs": [
        {
          "name": "stderr",
          "output_type": "stream",
          "text": [
            "<ipython-input-31-9a4fa43389fc>:5: UserWarning: set_ticklabels() should only be used with a fixed number of ticks, i.e. after set_ticks() or using a FixedLocator.\n",
            "  ax2.set_xticklabels(tokens, rotation=90)\n"
          ]
        },
        {
          "data": {
            "image/png": "[encoded data removed]",
            "text/plain": [
              "<Figure size 1200x600 with 1 Axes>"
            ]
          },
          "metadata": {},
          "output_type": "display_data"
        }
      ],
      "source": [
        "# Plot 2: Top 30 frequent tokens\n",
        "fig2, ax2 = plt.subplots(figsize=(12, 6))\n",
        "ax2.bar(tokens, counts)\n",
        "ax2.set_title(\"Top 30 Frequent Tokens (Custom)\")\n",
        "ax2.set_xticklabels(tokens, rotation=90)\n",
        "ax2.set_xlabel(\"Token\")\n",
        "ax2.set_ylabel(\"Frequency\")\n",
        "ax2.grid(axis='y')"
      ]
    },
    {
      "cell_type": "markdown",
      "id": "KCrwYTgGmwCh",
      "metadata": {
        "id": "KCrwYTgGmwCh"
      },
      "source": [
        "\n",
        ">Top 30 Frequent Tokens:\n",
        "\n",
        "The bar chart shows that the most frequent tokens include punctuation marks (like “.” and “,”) and a number of Byte-Level BPE fragments prefixed by “Ġ”. A handful of sub-words such as “Ġthe”, “Ġto”, and “Ġand” dominate, but none of them seems overly surprising. Still if we had more time, the fact that punctuation ranks so highly suggests we could normalize or remove certain symbols if they’re not semantically useful and then retrain the tokenizer. Overall, we see a reasonably balanced spread across the top 30, which indicates our vocab_size isn’t being monopolized by a tiny set of tokens."
      ]
    },
    {
      "cell_type": "code",
      "execution_count": 32,
      "id": "DtSM3sM8mg4d",
      "metadata": {
        "colab": {
          "base_uri": "https://localhost:8080/",
          "height": 383
        },
        "id": "DtSM3sM8mg4d",
        "outputId": "4c1bc1f9-f51b-4550-99b3-7efd628e2530"
      },
      "outputs": [
        {
          "data": {
            "image/png": "[encoded data removed]",
            "text/plain": [
              "<Figure size 1200x600 with 1 Axes>"
            ]
          },
          "metadata": {},
          "output_type": "display_data"
        }
      ],
      "source": [
        "fig3, ax3 = plt.subplots(figsize=(12, 6))\n",
        "ax3.plot(cum_coverage, marker='o')\n",
        "ax3.set_title(\"Cumulative Vocabulary Coverage\")\n",
        "ax3.set_xlabel(\"Token rank\")\n",
        "ax3.set_ylabel(\"Cumulative coverage fraction\")\n",
        "ax3.grid(True)\n"
      ]
    },
    {
      "cell_type": "markdown",
      "id": "fHrRakGRY4Ej",
      "metadata": {
        "id": "fHrRakGRY4Ej"
      },
      "source": [
        "\n",
        ">Cumulative Vocabulary Coverage:\n",
        "\n",
        "The cumulative curve climbs very steeply at first over 80% coverage is reached within the top ~1,000 tokens and then flattens out, approaching 100% only after accounting for several thousand rare tokens. This confirms that the majority of our text uses a relatively small core vocabulary, and that setting vocab_size around 10–15 K would already capture most of the corpus. Our current size of ~50 K tokens provides extra headroom for rare words and sub-word combinations, but we could likely shrink it if we wanted to reduce model complexity."
      ]
    },
    {
      "cell_type": "markdown",
      "id": "pz0Aq5IWZ5fr",
      "metadata": {
        "id": "pz0Aq5IWZ5fr"
      },
      "source": [
        "#  B- Encode & Decode Example Comparison"
      ]
    },
    {
      "cell_type": "code",
      "execution_count": 13,
      "id": "8a41cbf9",
      "metadata": {
        "colab": {
          "base_uri": "https://localhost:8080/"
        },
        "id": "8a41cbf9",
        "outputId": "5cff4516-55c7-42ae-f34a-475a4b022c1b"
      },
      "outputs": [
        {
          "name": "stdout",
          "output_type": "stream",
          "text": [
            "Original:   This is a test sentence for comparing tokenizers for COM-304 demo .\n",
            "Base decode: This is a test sentence for comparing tokenizers for COM-304 demo.\n",
            "Custom decode: This Ġis Ġa Ġtest Ġsent ence Ġfor Ġcomp aring Ġto ken izers Ġfor ĠCO M - 30 4 Ġdemo Ġ.\n",
            "Base tokens: ['This', 'Ġis', 'Ġa', 'Ġtest', 'Ġsentence', 'Ġfor', 'Ġcomparing', 'Ġtoken', 'izers', 'Ġfor', 'ĠCOM', '-', '304', 'Ġdemo', 'Ġ.']\n",
            "Custom tokens: ['This', 'Ġis', 'Ġa', 'Ġtest', 'Ġsent', 'ence', 'Ġfor', 'Ġcomp', 'aring', 'Ġto', 'ken', 'izers', 'Ġfor', 'ĠCO', 'M', '-', '30', '4', 'Ġdemo', 'Ġ.']\n"
          ]
        }
      ],
      "source": [
        "# Cell 3: Encode & Decode Example Comparison\n",
        "text = \"This is a test sentence for comparing tokenizers for COM-304 demo .\"\n",
        "\n",
        "enc_base = base_tok(text)\n",
        "dec_base = base_tok.decode(enc_base.input_ids, clean_up_tokenization_spaces=True)\n",
        "enc_custom = custom_tok(text)\n",
        "dec_custom = custom_tok.decode(enc_custom.input_ids, clean_up_tokenization_spaces=True)\n",
        "\n",
        "print(\"Original:  \", text)\n",
        "print(\"Base decode:\", dec_base)\n",
        "print(\"Custom decode:\", dec_custom)\n",
        "print(\"Base tokens:\", base_tok.convert_ids_to_tokens(enc_base.input_ids))\n",
        "print(\"Custom tokens:\", custom_tok.convert_ids_to_tokens(enc_custom.input_ids))"
      ]
    },
    {
      "cell_type": "markdown",
      "id": "P3qIxGYJUG-j",
      "metadata": {
        "id": "P3qIxGYJUG-j"
      },
      "source": [
        ">When we run the example through both tokenizers, GPT-2’s default vocabulary cleanly handles “sentence” and “COM-304” as whole units, whereas our custom tokenizer splits them into sub-words (“sent” + “ence”, “CO” + “M” + “30” + “4”). That’s because “COM-304” never appeared in our original, relatively small dataset, so with only 15 K tokens it didn’t learn those full words. We accept that trade-off our smaller vocab guarantees no out-of-vocabulary tokens at all, since every new string is broken into known pieces.\n",
        "\n",
        ">If we had more time, we would either expand our training corpus to include such acronyms, modestly increase vocab_size to capture high-value tokens whole (like “COM-304”), or add targeted post-processing that merges frequent sub-word pairs back into full tokens. These tweaks would preserve the robustness of sub-word coverage while smoothing over any choppy reconstructions."
      ]
    },
    {
      "cell_type": "markdown",
      "id": "vaYhon2AknH4",
      "metadata": {
        "id": "vaYhon2AknH4"
      },
      "source": [
        "# C - Token Length Distribution Comparison"
      ]
    },
    {
      "cell_type": "code",
      "execution_count": 27,
      "id": "f772b0bc",
      "metadata": {
        "colab": {
          "base_uri": "https://localhost:8080/",
          "height": 472
        },
        "id": "f772b0bc",
        "outputId": "c9777b36-3a62-45b6-a2dd-e84564dd9076"
      },
      "outputs": [
        {
          "data": {
            "image/png": "[encoded data removed]",
            "text/plain": [
              "<Figure size 640x480 with 1 Axes>"
            ]
          },
          "metadata": {},
          "output_type": "display_data"
        }
      ],
      "source": [
        "# Cell 4: Token Length Distribution Comparison\n",
        "from collections import Counter\n",
        "import numpy as np\n",
        "import matplotlib.pyplot as plt # Import matplotlib here as well for clarity\n",
        "\n",
        "def token_length_distribution(tokenizer, texts):\n",
        "    lengths = []\n",
        "    for t in texts:\n",
        "\n",
        "        toks = tokenizer(t).tokens()\n",
        "        lengths.extend([len(tok.replace(\"Ġ\",\"\")) for tok in toks])\n",
        "    return lengths\n",
        "\n",
        "\n",
        "sample = eval_texts\n",
        "base_lens = token_length_distribution(base_tok, sample)\n",
        "custom_lens = token_length_distribution(custom_tok, sample)\n",
        "\n",
        "plt.figure()\n",
        "plt.hist([base_lens, custom_lens], bins=20, label=[\"Base\", \"Custom\"])\n",
        "plt.title(\"Token Length Distribution (chars)\")\n",
        "plt.xlabel(\"Token length in characters\")\n",
        "plt.ylabel(\"Frequency\")\n",
        "plt.legend()\n",
        "plt.show()\n"
      ]
    },
    {
      "cell_type": "markdown",
      "id": "L9SyRu4Qj_7E",
      "metadata": {
        "id": "L9SyRu4Qj_7E"
      },
      "source": [
        ">When we directly compare token-length histograms side-by-side for the baseline GPT-2 tokenizer (blue) and our custom tokenizer (orange), we see that both vocabularies heavily favor short sub-word units, with the vast majority of tokens falling between 2 and 4 characters.\n",
        "\n",
        ">Yet our custom tokenizer exhibits a  nudge toward even shorter pieces: single-character tokens are more frequent, and the orange bars for lengths 1 and 2 slightly exceed the blue bars. This arises because our 15 K-token vocabulary cannot include every medium-length word or common substring, so it “falls back” more often to minimal building blocks. In contrast, GPT-2’s 50 K-token vocabulary can afford to include more three- and four-character tokens outright, reducing the need for aggressive splitting.\n",
        "\n",
        ">Functionally, this means our custom vocabulary guarantees zero out-of-vocabulary terms every unseen word simply becomes a sequence of known fragments—but at the cost of increased fragmentation. To balance coverage with readability, we could modestly expand vocab_size or inject high-value multi-character tokens (for instance, frequent acronyms or domain-specific terms) into our training data so they emerge as single tokens in the custom vocab, smoothing the tail of this distribution while preserving robust coverage."
      ]
    },
    {
      "cell_type": "code",
      "execution_count": null,
      "id": "JnkE_DQDRgsZ",
      "metadata": {
        "id": "JnkE_DQDRgsZ"
      },
      "outputs": [],
      "source": []
    }
  ],
  "metadata": {
    "colab": {
      "provenance": []
    },
    "kernelspec": {
      "display_name": "Python 3",
      "name": "python3"
    },
    "language_info": {
      "name": "python"
    },
    "widgets": {
      "application/vnd.jupyter.widget-state+json": {
        "0411e605ccbf4dc2b7b27f8bc72b011e": {
          "model_module": "@jupyter-widgets/controls",
          "model_module_version": "1.5.0",
          "model_name": "FloatProgressModel",
          "state": {
            "_dom_classes": [],
            "_model_module": "@jupyter-widgets/controls",
            "_model_module_version": "1.5.0",
            "_model_name": "FloatProgressModel",
            "_view_count": null,
            "_view_module": "@jupyter-widgets/controls",
            "_view_module_version": "1.5.0",
            "_view_name": "ProgressView",
            "bar_style": "success",
            "description": "",
            "description_tooltip": null,
            "layout": "IPY_MODEL_eed11f0f6a984804ab2aaaba0d871044",
            "max": 1042301,
            "min": 0,
            "orientation": "horizontal",
            "style": "IPY_MODEL_ce3daedcae4a4004b09a61d5494f8f7d",
            "value": 1042301
          }
        },
        "06bc8e53f7424c089faec1a9ff574b44": {
          "model_module": "@jupyter-widgets/controls",
          "model_module_version": "1.5.0",
          "model_name": "HTMLModel",
          "state": {
            "_dom_classes": [],
            "_model_module": "@jupyter-widgets/controls",
            "_model_module_version": "1.5.0",
            "_model_name": "HTMLModel",
            "_view_count": null,
            "_view_module": "@jupyter-widgets/controls",
            "_view_module_version": "1.5.0",
            "_view_name": "HTMLView",
            "description": "",
            "description_tooltip": null,
            "layout": "IPY_MODEL_322e9f122d93406d9a920f0c5587ae14",
            "placeholder": "​",
            "style": "IPY_MODEL_f462e47bd4794445a1eb2522e6defeaa",
            "value": "vocab.json: 100%"
          }
        },
        "0f6d03cb14284c30bf1f60f6567ecb72": {
          "model_module": "@jupyter-widgets/controls",
          "model_module_version": "1.5.0",
          "model_name": "FloatProgressModel",
          "state": {
            "_dom_classes": [],
            "_model_module": "@jupyter-widgets/controls",
            "_model_module_version": "1.5.0",
            "_model_name": "FloatProgressModel",
            "_view_count": null,
            "_view_module": "@jupyter-widgets/controls",
            "_view_module_version": "1.5.0",
            "_view_name": "ProgressView",
            "bar_style": "success",
            "description": "",
            "description_tooltip": null,
            "layout": "IPY_MODEL_1fa4bd0211924bf79cad87f577883d43",
            "max": 456318,
            "min": 0,
            "orientation": "horizontal",
            "style": "IPY_MODEL_682d47ddfbf64f589e20816ac9334283",
            "value": 456318
          }
        },
        "107f1013ddb54879b04a856db9a86cc6": {
          "model_module": "@jupyter-widgets/controls",
          "model_module_version": "1.5.0",
          "model_name": "DescriptionStyleModel",
          "state": {
            "_model_module": "@jupyter-widgets/controls",
            "_model_module_version": "1.5.0",
            "_model_name": "DescriptionStyleModel",
            "_view_count": null,
            "_view_module": "@jupyter-widgets/base",
            "_view_module_version": "1.2.0",
            "_view_name": "StyleView",
            "description_width": ""
          }
        },
        "18bcec1948f0410b9dac890d4343987f": {
          "model_module": "@jupyter-widgets/controls",
          "model_module_version": "1.5.0",
          "model_name": "HTMLModel",
          "state": {
            "_dom_classes": [],
            "_model_module": "@jupyter-widgets/controls",
            "_model_module_version": "1.5.0",
            "_model_name": "HTMLModel",
            "_view_count": null,
            "_view_module": "@jupyter-widgets/controls",
            "_view_module_version": "1.5.0",
            "_view_name": "HTMLView",
            "description": "",
            "description_tooltip": null,
            "layout": "IPY_MODEL_1910e570ac53425399f2968f92dce41a",
            "placeholder": "​",
            "style": "IPY_MODEL_6810e932481c4012878068e28134ae5a",
            "value": " 456k/456k [00:00&lt;00:00, 26.2MB/s]"
          }
        },
        "1910e570ac53425399f2968f92dce41a": {
          "model_module": "@jupyter-widgets/base",
          "model_module_version": "1.2.0",
          "model_name": "LayoutModel",
          "state": {
            "_model_module": "@jupyter-widgets/base",
            "_model_module_version": "1.2.0",
            "_model_name": "LayoutModel",
            "_view_count": null,
            "_view_module": "@jupyter-widgets/base",
            "_view_module_version": "1.2.0",
            "_view_name": "LayoutView",
            "align_content": null,
            "align_items": null,
            "align_self": null,
            "border": null,
            "bottom": null,
            "display": null,
            "flex": null,
            "flex_flow": null,
            "grid_area": null,
            "grid_auto_columns": null,
            "grid_auto_flow": null,
            "grid_auto_rows": null,
            "grid_column": null,
            "grid_gap": null,
            "grid_row": null,
            "grid_template_areas": null,
            "grid_template_columns": null,
            "grid_template_rows": null,
            "height": null,
            "justify_content": null,
            "justify_items": null,
            "left": null,
            "margin": null,
            "max_height": null,
            "max_width": null,
            "min_height": null,
            "min_width": null,
            "object_fit": null,
            "object_position": null,
            "order": null,
            "overflow": null,
            "overflow_x": null,
            "overflow_y": null,
            "padding": null,
            "right": null,
            "top": null,
            "visibility": null,
            "width": null
          }
        },
        "1d95a687d00040ce8abb4a77666c8e4e": {
          "model_module": "@jupyter-widgets/base",
          "model_module_version": "1.2.0",
          "model_name": "LayoutModel",
          "state": {
            "_model_module": "@jupyter-widgets/base",
            "_model_module_version": "1.2.0",
            "_model_name": "LayoutModel",
            "_view_count": null,
            "_view_module": "@jupyter-widgets/base",
            "_view_module_version": "1.2.0",
            "_view_name": "LayoutView",
            "align_content": null,
            "align_items": null,
            "align_self": null,
            "border": null,
            "bottom": null,
            "display": null,
            "flex": null,
            "flex_flow": null,
            "grid_area": null,
            "grid_auto_columns": null,
            "grid_auto_flow": null,
            "grid_auto_rows": null,
            "grid_column": null,
            "grid_gap": null,
            "grid_row": null,
            "grid_template_areas": null,
            "grid_template_columns": null,
            "grid_template_rows": null,
            "height": null,
            "justify_content": null,
            "justify_items": null,
            "left": null,
            "margin": null,
            "max_height": null,
            "max_width": null,
            "min_height": null,
            "min_width": null,
            "object_fit": null,
            "object_position": null,
            "order": null,
            "overflow": null,
            "overflow_x": null,
            "overflow_y": null,
            "padding": null,
            "right": null,
            "top": null,
            "visibility": null,
            "width": null
          }
        },
        "1fa4bd0211924bf79cad87f577883d43": {
          "model_module": "@jupyter-widgets/base",
          "model_module_version": "1.2.0",
          "model_name": "LayoutModel",
          "state": {
            "_model_module": "@jupyter-widgets/base",
            "_model_module_version": "1.2.0",
            "_model_name": "LayoutModel",
            "_view_count": null,
            "_view_module": "@jupyter-widgets/base",
            "_view_module_version": "1.2.0",
            "_view_name": "LayoutView",
            "align_content": null,
            "align_items": null,
            "align_self": null,
            "border": null,
            "bottom": null,
            "display": null,
            "flex": null,
            "flex_flow": null,
            "grid_area": null,
            "grid_auto_columns": null,
            "grid_auto_flow": null,
            "grid_auto_rows": null,
            "grid_column": null,
            "grid_gap": null,
            "grid_row": null,
            "grid_template_areas": null,
            "grid_template_columns": null,
            "grid_template_rows": null,
            "height": null,
            "justify_content": null,
            "justify_items": null,
            "left": null,
            "margin": null,
            "max_height": null,
            "max_width": null,
            "min_height": null,
            "min_width": null,
            "object_fit": null,
            "object_position": null,
            "order": null,
            "overflow": null,
            "overflow_x": null,
            "overflow_y": null,
            "padding": null,
            "right": null,
            "top": null,
            "visibility": null,
            "width": null
          }
        },
        "1fc2365f4c9142deaf331cbce445a234": {
          "model_module": "@jupyter-widgets/controls",
          "model_module_version": "1.5.0",
          "model_name": "HBoxModel",
          "state": {
            "_dom_classes": [],
            "_model_module": "@jupyter-widgets/controls",
            "_model_module_version": "1.5.0",
            "_model_name": "HBoxModel",
            "_view_count": null,
            "_view_module": "@jupyter-widgets/controls",
            "_view_module_version": "1.5.0",
            "_view_name": "HBoxView",
            "box_style": "",
            "children": [
              "IPY_MODEL_50ffaa57b030401cb807e9e10fbcbc55",
              "IPY_MODEL_0f6d03cb14284c30bf1f60f6567ecb72",
              "IPY_MODEL_18bcec1948f0410b9dac890d4343987f"
            ],
            "layout": "IPY_MODEL_848230756fb943308f350f7e61b12b15"
          }
        },
        "227907a73a5444708c67c4d3b95d7335": {
          "model_module": "@jupyter-widgets/controls",
          "model_module_version": "1.5.0",
          "model_name": "DescriptionStyleModel",
          "state": {
            "_model_module": "@jupyter-widgets/controls",
            "_model_module_version": "1.5.0",
            "_model_name": "DescriptionStyleModel",
            "_view_count": null,
            "_view_module": "@jupyter-widgets/base",
            "_view_module_version": "1.2.0",
            "_view_name": "StyleView",
            "description_width": ""
          }
        },
        "300a287992024b90a1893aaa900c6e14": {
          "model_module": "@jupyter-widgets/base",
          "model_module_version": "1.2.0",
          "model_name": "LayoutModel",
          "state": {
            "_model_module": "@jupyter-widgets/base",
            "_model_module_version": "1.2.0",
            "_model_name": "LayoutModel",
            "_view_count": null,
            "_view_module": "@jupyter-widgets/base",
            "_view_module_version": "1.2.0",
            "_view_name": "LayoutView",
            "align_content": null,
            "align_items": null,
            "align_self": null,
            "border": null,
            "bottom": null,
            "display": null,
            "flex": null,
            "flex_flow": null,
            "grid_area": null,
            "grid_auto_columns": null,
            "grid_auto_flow": null,
            "grid_auto_rows": null,
            "grid_column": null,
            "grid_gap": null,
            "grid_row": null,
            "grid_template_areas": null,
            "grid_template_columns": null,
            "grid_template_rows": null,
            "height": null,
            "justify_content": null,
            "justify_items": null,
            "left": null,
            "margin": null,
            "max_height": null,
            "max_width": null,
            "min_height": null,
            "min_width": null,
            "object_fit": null,
            "object_position": null,
            "order": null,
            "overflow": null,
            "overflow_x": null,
            "overflow_y": null,
            "padding": null,
            "right": null,
            "top": null,
            "visibility": null,
            "width": null
          }
        },
        "31dff09cde47409b82857575620d06d1": {
          "model_module": "@jupyter-widgets/controls",
          "model_module_version": "1.5.0",
          "model_name": "HTMLModel",
          "state": {
            "_dom_classes": [],
            "_model_module": "@jupyter-widgets/controls",
            "_model_module_version": "1.5.0",
            "_model_name": "HTMLModel",
            "_view_count": null,
            "_view_module": "@jupyter-widgets/controls",
            "_view_module_version": "1.5.0",
            "_view_name": "HTMLView",
            "description": "",
            "description_tooltip": null,
            "layout": "IPY_MODEL_abc99da75e3c4164881eac78c3077c8e",
            "placeholder": "​",
            "style": "IPY_MODEL_4c5d41019aa1499080379f4c95d8fbcf",
            "value": "tokenizer.json: 100%"
          }
        },
        "322e9f122d93406d9a920f0c5587ae14": {
          "model_module": "@jupyter-widgets/base",
          "model_module_version": "1.2.0",
          "model_name": "LayoutModel",
          "state": {
            "_model_module": "@jupyter-widgets/base",
            "_model_module_version": "1.2.0",
            "_model_name": "LayoutModel",
            "_view_count": null,
            "_view_module": "@jupyter-widgets/base",
            "_view_module_version": "1.2.0",
            "_view_name": "LayoutView",
            "align_content": null,
            "align_items": null,
            "align_self": null,
            "border": null,
            "bottom": null,
            "display": null,
            "flex": null,
            "flex_flow": null,
            "grid_area": null,
            "grid_auto_columns": null,
            "grid_auto_flow": null,
            "grid_auto_rows": null,
            "grid_column": null,
            "grid_gap": null,
            "grid_row": null,
            "grid_template_areas": null,
            "grid_template_columns": null,
            "grid_template_rows": null,
            "height": null,
            "justify_content": null,
            "justify_items": null,
            "left": null,
            "margin": null,
            "max_height": null,
            "max_width": null,
            "min_height": null,
            "min_width": null,
            "object_fit": null,
            "object_position": null,
            "order": null,
            "overflow": null,
            "overflow_x": null,
            "overflow_y": null,
            "padding": null,
            "right": null,
            "top": null,
            "visibility": null,
            "width": null
          }
        },
        "48b8125a32514004aff418bf67b085f0": {
          "model_module": "@jupyter-widgets/controls",
          "model_module_version": "1.5.0",
          "model_name": "HBoxModel",
          "state": {
            "_dom_classes": [],
            "_model_module": "@jupyter-widgets/controls",
            "_model_module_version": "1.5.0",
            "_model_name": "HBoxModel",
            "_view_count": null,
            "_view_module": "@jupyter-widgets/controls",
            "_view_module_version": "1.5.0",
            "_view_name": "HBoxView",
            "box_style": "",
            "children": [
              "IPY_MODEL_31dff09cde47409b82857575620d06d1",
              "IPY_MODEL_a615ca77c1114d1e9a47c13d3355161d",
              "IPY_MODEL_9a153688936f40759a92865e6ae7c30b"
            ],
            "layout": "IPY_MODEL_b436967f576b4e88a9673915b3636474"
          }
        },
        "4c5d41019aa1499080379f4c95d8fbcf": {
          "model_module": "@jupyter-widgets/controls",
          "model_module_version": "1.5.0",
          "model_name": "DescriptionStyleModel",
          "state": {
            "_model_module": "@jupyter-widgets/controls",
            "_model_module_version": "1.5.0",
            "_model_name": "DescriptionStyleModel",
            "_view_count": null,
            "_view_module": "@jupyter-widgets/base",
            "_view_module_version": "1.2.0",
            "_view_name": "StyleView",
            "description_width": ""
          }
        },
        "50ffaa57b030401cb807e9e10fbcbc55": {
          "model_module": "@jupyter-widgets/controls",
          "model_module_version": "1.5.0",
          "model_name": "HTMLModel",
          "state": {
            "_dom_classes": [],
            "_model_module": "@jupyter-widgets/controls",
            "_model_module_version": "1.5.0",
            "_model_name": "HTMLModel",
            "_view_count": null,
            "_view_module": "@jupyter-widgets/controls",
            "_view_module_version": "1.5.0",
            "_view_name": "HTMLView",
            "description": "",
            "description_tooltip": null,
            "layout": "IPY_MODEL_f069133bfdcf49a18701b48bf2eb4e61",
            "placeholder": "​",
            "style": "IPY_MODEL_df2f27a724b240999911cb06f2d11c5d",
            "value": "merges.txt: 100%"
          }
        },
        "5287a168b08c4d0e97d2c6783e9736f5": {
          "model_module": "@jupyter-widgets/controls",
          "model_module_version": "1.5.0",
          "model_name": "DescriptionStyleModel",
          "state": {
            "_model_module": "@jupyter-widgets/controls",
            "_model_module_version": "1.5.0",
            "_model_name": "DescriptionStyleModel",
            "_view_count": null,
            "_view_module": "@jupyter-widgets/base",
            "_view_module_version": "1.2.0",
            "_view_name": "StyleView",
            "description_width": ""
          }
        },
        "5943300b53cb49fa8f3c0adc73c37f86": {
          "model_module": "@jupyter-widgets/controls",
          "model_module_version": "1.5.0",
          "model_name": "DescriptionStyleModel",
          "state": {
            "_model_module": "@jupyter-widgets/controls",
            "_model_module_version": "1.5.0",
            "_model_name": "DescriptionStyleModel",
            "_view_count": null,
            "_view_module": "@jupyter-widgets/base",
            "_view_module_version": "1.2.0",
            "_view_name": "StyleView",
            "description_width": ""
          }
        },
        "6339964802d841b99ca0c2e856187552": {
          "model_module": "@jupyter-widgets/base",
          "model_module_version": "1.2.0",
          "model_name": "LayoutModel",
          "state": {
            "_model_module": "@jupyter-widgets/base",
            "_model_module_version": "1.2.0",
            "_model_name": "LayoutModel",
            "_view_count": null,
            "_view_module": "@jupyter-widgets/base",
            "_view_module_version": "1.2.0",
            "_view_name": "LayoutView",
            "align_content": null,
            "align_items": null,
            "align_self": null,
            "border": null,
            "bottom": null,
            "display": null,
            "flex": null,
            "flex_flow": null,
            "grid_area": null,
            "grid_auto_columns": null,
            "grid_auto_flow": null,
            "grid_auto_rows": null,
            "grid_column": null,
            "grid_gap": null,
            "grid_row": null,
            "grid_template_areas": null,
            "grid_template_columns": null,
            "grid_template_rows": null,
            "height": null,
            "justify_content": null,
            "justify_items": null,
            "left": null,
            "margin": null,
            "max_height": null,
            "max_width": null,
            "min_height": null,
            "min_width": null,
            "object_fit": null,
            "object_position": null,
            "order": null,
            "overflow": null,
            "overflow_x": null,
            "overflow_y": null,
            "padding": null,
            "right": null,
            "top": null,
            "visibility": null,
            "width": null
          }
        },
        "647121a702f54c78b99a41abd58528b7": {
          "model_module": "@jupyter-widgets/controls",
          "model_module_version": "1.5.0",
          "model_name": "HBoxModel",
          "state": {
            "_dom_classes": [],
            "_model_module": "@jupyter-widgets/controls",
            "_model_module_version": "1.5.0",
            "_model_name": "HBoxModel",
            "_view_count": null,
            "_view_module": "@jupyter-widgets/controls",
            "_view_module_version": "1.5.0",
            "_view_name": "HBoxView",
            "box_style": "",
            "children": [
              "IPY_MODEL_06bc8e53f7424c089faec1a9ff574b44",
              "IPY_MODEL_0411e605ccbf4dc2b7b27f8bc72b011e",
              "IPY_MODEL_aeff650941dd46a59f3103219242cc29"
            ],
            "layout": "IPY_MODEL_1d95a687d00040ce8abb4a77666c8e4e"
          }
        },
        "6810e932481c4012878068e28134ae5a": {
          "model_module": "@jupyter-widgets/controls",
          "model_module_version": "1.5.0",
          "model_name": "DescriptionStyleModel",
          "state": {
            "_model_module": "@jupyter-widgets/controls",
            "_model_module_version": "1.5.0",
            "_model_name": "DescriptionStyleModel",
            "_view_count": null,
            "_view_module": "@jupyter-widgets/base",
            "_view_module_version": "1.2.0",
            "_view_name": "StyleView",
            "description_width": ""
          }
        },
        "682d47ddfbf64f589e20816ac9334283": {
          "model_module": "@jupyter-widgets/controls",
          "model_module_version": "1.5.0",
          "model_name": "ProgressStyleModel",
          "state": {
            "_model_module": "@jupyter-widgets/controls",
            "_model_module_version": "1.5.0",
            "_model_name": "ProgressStyleModel",
            "_view_count": null,
            "_view_module": "@jupyter-widgets/base",
            "_view_module_version": "1.2.0",
            "_view_name": "StyleView",
            "bar_color": null,
            "description_width": ""
          }
        },
        "6c0e12335855453793712429d3197000": {
          "model_module": "@jupyter-widgets/controls",
          "model_module_version": "1.5.0",
          "model_name": "ProgressStyleModel",
          "state": {
            "_model_module": "@jupyter-widgets/controls",
            "_model_module_version": "1.5.0",
            "_model_name": "ProgressStyleModel",
            "_view_count": null,
            "_view_module": "@jupyter-widgets/base",
            "_view_module_version": "1.2.0",
            "_view_name": "StyleView",
            "bar_color": null,
            "description_width": ""
          }
        },
        "6c7d0c89d8074fccbfc443bcf3ef9cdf": {
          "model_module": "@jupyter-widgets/base",
          "model_module_version": "1.2.0",
          "model_name": "LayoutModel",
          "state": {
            "_model_module": "@jupyter-widgets/base",
            "_model_module_version": "1.2.0",
            "_model_name": "LayoutModel",
            "_view_count": null,
            "_view_module": "@jupyter-widgets/base",
            "_view_module_version": "1.2.0",
            "_view_name": "LayoutView",
            "align_content": null,
            "align_items": null,
            "align_self": null,
            "border": null,
            "bottom": null,
            "display": null,
            "flex": null,
            "flex_flow": null,
            "grid_area": null,
            "grid_auto_columns": null,
            "grid_auto_flow": null,
            "grid_auto_rows": null,
            "grid_column": null,
            "grid_gap": null,
            "grid_row": null,
            "grid_template_areas": null,
            "grid_template_columns": null,
            "grid_template_rows": null,
            "height": null,
            "justify_content": null,
            "justify_items": null,
            "left": null,
            "margin": null,
            "max_height": null,
            "max_width": null,
            "min_height": null,
            "min_width": null,
            "object_fit": null,
            "object_position": null,
            "order": null,
            "overflow": null,
            "overflow_x": null,
            "overflow_y": null,
            "padding": null,
            "right": null,
            "top": null,
            "visibility": null,
            "width": null
          }
        },
        "79a53a91019c451dabd037dda548edce": {
          "model_module": "@jupyter-widgets/controls",
          "model_module_version": "1.5.0",
          "model_name": "HBoxModel",
          "state": {
            "_dom_classes": [],
            "_model_module": "@jupyter-widgets/controls",
            "_model_module_version": "1.5.0",
            "_model_name": "HBoxModel",
            "_view_count": null,
            "_view_module": "@jupyter-widgets/controls",
            "_view_module_version": "1.5.0",
            "_view_name": "HBoxView",
            "box_style": "",
            "children": [
              "IPY_MODEL_d7a3eb801bad4d219369c0ab92b39eb5",
              "IPY_MODEL_94136b6dbbf4431cab90e7fcc6f9fd20",
              "IPY_MODEL_e64f0caa6eef4fc5bb5db1f5b1c0a8bc"
            ],
            "layout": "IPY_MODEL_f3bacb4d85f64ca8ac66abce0afc902c"
          }
        },
        "848230756fb943308f350f7e61b12b15": {
          "model_module": "@jupyter-widgets/base",
          "model_module_version": "1.2.0",
          "model_name": "LayoutModel",
          "state": {
            "_model_module": "@jupyter-widgets/base",
            "_model_module_version": "1.2.0",
            "_model_name": "LayoutModel",
            "_view_count": null,
            "_view_module": "@jupyter-widgets/base",
            "_view_module_version": "1.2.0",
            "_view_name": "LayoutView",
            "align_content": null,
            "align_items": null,
            "align_self": null,
            "border": null,
            "bottom": null,
            "display": null,
            "flex": null,
            "flex_flow": null,
            "grid_area": null,
            "grid_auto_columns": null,
            "grid_auto_flow": null,
            "grid_auto_rows": null,
            "grid_column": null,
            "grid_gap": null,
            "grid_row": null,
            "grid_template_areas": null,
            "grid_template_columns": null,
            "grid_template_rows": null,
            "height": null,
            "justify_content": null,
            "justify_items": null,
            "left": null,
            "margin": null,
            "max_height": null,
            "max_width": null,
            "min_height": null,
            "min_width": null,
            "object_fit": null,
            "object_position": null,
            "order": null,
            "overflow": null,
            "overflow_x": null,
            "overflow_y": null,
            "padding": null,
            "right": null,
            "top": null,
            "visibility": null,
            "width": null
          }
        },
        "94136b6dbbf4431cab90e7fcc6f9fd20": {
          "model_module": "@jupyter-widgets/controls",
          "model_module_version": "1.5.0",
          "model_name": "FloatProgressModel",
          "state": {
            "_dom_classes": [],
            "_model_module": "@jupyter-widgets/controls",
            "_model_module_version": "1.5.0",
            "_model_name": "FloatProgressModel",
            "_view_count": null,
            "_view_module": "@jupyter-widgets/controls",
            "_view_module_version": "1.5.0",
            "_view_name": "ProgressView",
            "bar_style": "success",
            "description": "",
            "description_tooltip": null,
            "layout": "IPY_MODEL_300a287992024b90a1893aaa900c6e14",
            "max": 26,
            "min": 0,
            "orientation": "horizontal",
            "style": "IPY_MODEL_6c0e12335855453793712429d3197000",
            "value": 26
          }
        },
        "9a153688936f40759a92865e6ae7c30b": {
          "model_module": "@jupyter-widgets/controls",
          "model_module_version": "1.5.0",
          "model_name": "HTMLModel",
          "state": {
            "_dom_classes": [],
            "_model_module": "@jupyter-widgets/controls",
            "_model_module_version": "1.5.0",
            "_model_name": "HTMLModel",
            "_view_count": null,
            "_view_module": "@jupyter-widgets/controls",
            "_view_module_version": "1.5.0",
            "_view_name": "HTMLView",
            "description": "",
            "description_tooltip": null,
            "layout": "IPY_MODEL_6c7d0c89d8074fccbfc443bcf3ef9cdf",
            "placeholder": "​",
            "style": "IPY_MODEL_5287a168b08c4d0e97d2c6783e9736f5",
            "value": " 1.36M/1.36M [00:00&lt;00:00, 7.46MB/s]"
          }
        },
        "9c137d3a601042b89a39787e8e9492b8": {
          "model_module": "@jupyter-widgets/base",
          "model_module_version": "1.2.0",
          "model_name": "LayoutModel",
          "state": {
            "_model_module": "@jupyter-widgets/base",
            "_model_module_version": "1.2.0",
            "_model_name": "LayoutModel",
            "_view_count": null,
            "_view_module": "@jupyter-widgets/base",
            "_view_module_version": "1.2.0",
            "_view_name": "LayoutView",
            "align_content": null,
            "align_items": null,
            "align_self": null,
            "border": null,
            "bottom": null,
            "display": null,
            "flex": null,
            "flex_flow": null,
            "grid_area": null,
            "grid_auto_columns": null,
            "grid_auto_flow": null,
            "grid_auto_rows": null,
            "grid_column": null,
            "grid_gap": null,
            "grid_row": null,
            "grid_template_areas": null,
            "grid_template_columns": null,
            "grid_template_rows": null,
            "height": null,
            "justify_content": null,
            "justify_items": null,
            "left": null,
            "margin": null,
            "max_height": null,
            "max_width": null,
            "min_height": null,
            "min_width": null,
            "object_fit": null,
            "object_position": null,
            "order": null,
            "overflow": null,
            "overflow_x": null,
            "overflow_y": null,
            "padding": null,
            "right": null,
            "top": null,
            "visibility": null,
            "width": null
          }
        },
        "a615ca77c1114d1e9a47c13d3355161d": {
          "model_module": "@jupyter-widgets/controls",
          "model_module_version": "1.5.0",
          "model_name": "FloatProgressModel",
          "state": {
            "_dom_classes": [],
            "_model_module": "@jupyter-widgets/controls",
            "_model_module_version": "1.5.0",
            "_model_name": "FloatProgressModel",
            "_view_count": null,
            "_view_module": "@jupyter-widgets/controls",
            "_view_module_version": "1.5.0",
            "_view_name": "ProgressView",
            "bar_style": "success",
            "description": "",
            "description_tooltip": null,
            "layout": "IPY_MODEL_9c137d3a601042b89a39787e8e9492b8",
            "max": 1355256,
            "min": 0,
            "orientation": "horizontal",
            "style": "IPY_MODEL_c92f07a7a7bf4d38b58e5a35603939c9",
            "value": 1355256
          }
        },
        "abc99da75e3c4164881eac78c3077c8e": {
          "model_module": "@jupyter-widgets/base",
          "model_module_version": "1.2.0",
          "model_name": "LayoutModel",
          "state": {
            "_model_module": "@jupyter-widgets/base",
            "_model_module_version": "1.2.0",
            "_model_name": "LayoutModel",
            "_view_count": null,
            "_view_module": "@jupyter-widgets/base",
            "_view_module_version": "1.2.0",
            "_view_name": "LayoutView",
            "align_content": null,
            "align_items": null,
            "align_self": null,
            "border": null,
            "bottom": null,
            "display": null,
            "flex": null,
            "flex_flow": null,
            "grid_area": null,
            "grid_auto_columns": null,
            "grid_auto_flow": null,
            "grid_auto_rows": null,
            "grid_column": null,
            "grid_gap": null,
            "grid_row": null,
            "grid_template_areas": null,
            "grid_template_columns": null,
            "grid_template_rows": null,
            "height": null,
            "justify_content": null,
            "justify_items": null,
            "left": null,
            "margin": null,
            "max_height": null,
            "max_width": null,
            "min_height": null,
            "min_width": null,
            "object_fit": null,
            "object_position": null,
            "order": null,
            "overflow": null,
            "overflow_x": null,
            "overflow_y": null,
            "padding": null,
            "right": null,
            "top": null,
            "visibility": null,
            "width": null
          }
        },
        "aeff650941dd46a59f3103219242cc29": {
          "model_module": "@jupyter-widgets/controls",
          "model_module_version": "1.5.0",
          "model_name": "HTMLModel",
          "state": {
            "_dom_classes": [],
            "_model_module": "@jupyter-widgets/controls",
            "_model_module_version": "1.5.0",
            "_model_name": "HTMLModel",
            "_view_count": null,
            "_view_module": "@jupyter-widgets/controls",
            "_view_module_version": "1.5.0",
            "_view_name": "HTMLView",
            "description": "",
            "description_tooltip": null,
            "layout": "IPY_MODEL_d01a1bc795b2479d925ee4db152a8af7",
            "placeholder": "​",
            "style": "IPY_MODEL_107f1013ddb54879b04a856db9a86cc6",
            "value": " 1.04M/1.04M [00:00&lt;00:00, 1.93MB/s]"
          }
        },
        "b436967f576b4e88a9673915b3636474": {
          "model_module": "@jupyter-widgets/base",
          "model_module_version": "1.2.0",
          "model_name": "LayoutModel",
          "state": {
            "_model_module": "@jupyter-widgets/base",
            "_model_module_version": "1.2.0",
            "_model_name": "LayoutModel",
            "_view_count": null,
            "_view_module": "@jupyter-widgets/base",
            "_view_module_version": "1.2.0",
            "_view_name": "LayoutView",
            "align_content": null,
            "align_items": null,
            "align_self": null,
            "border": null,
            "bottom": null,
            "display": null,
            "flex": null,
            "flex_flow": null,
            "grid_area": null,
            "grid_auto_columns": null,
            "grid_auto_flow": null,
            "grid_auto_rows": null,
            "grid_column": null,
            "grid_gap": null,
            "grid_row": null,
            "grid_template_areas": null,
            "grid_template_columns": null,
            "grid_template_rows": null,
            "height": null,
            "justify_content": null,
            "justify_items": null,
            "left": null,
            "margin": null,
            "max_height": null,
            "max_width": null,
            "min_height": null,
            "min_width": null,
            "object_fit": null,
            "object_position": null,
            "order": null,
            "overflow": null,
            "overflow_x": null,
            "overflow_y": null,
            "padding": null,
            "right": null,
            "top": null,
            "visibility": null,
            "width": null
          }
        },
        "bfb24ebb37444f809890f6c8e90e5150": {
          "model_module": "@jupyter-widgets/base",
          "model_module_version": "1.2.0",
          "model_name": "LayoutModel",
          "state": {
            "_model_module": "@jupyter-widgets/base",
            "_model_module_version": "1.2.0",
            "_model_name": "LayoutModel",
            "_view_count": null,
            "_view_module": "@jupyter-widgets/base",
            "_view_module_version": "1.2.0",
            "_view_name": "LayoutView",
            "align_content": null,
            "align_items": null,
            "align_self": null,
            "border": null,
            "bottom": null,
            "display": null,
            "flex": null,
            "flex_flow": null,
            "grid_area": null,
            "grid_auto_columns": null,
            "grid_auto_flow": null,
            "grid_auto_rows": null,
            "grid_column": null,
            "grid_gap": null,
            "grid_row": null,
            "grid_template_areas": null,
            "grid_template_columns": null,
            "grid_template_rows": null,
            "height": null,
            "justify_content": null,
            "justify_items": null,
            "left": null,
            "margin": null,
            "max_height": null,
            "max_width": null,
            "min_height": null,
            "min_width": null,
            "object_fit": null,
            "object_position": null,
            "order": null,
            "overflow": null,
            "overflow_x": null,
            "overflow_y": null,
            "padding": null,
            "right": null,
            "top": null,
            "visibility": null,
            "width": null
          }
        },
        "c92f07a7a7bf4d38b58e5a35603939c9": {
          "model_module": "@jupyter-widgets/controls",
          "model_module_version": "1.5.0",
          "model_name": "ProgressStyleModel",
          "state": {
            "_model_module": "@jupyter-widgets/controls",
            "_model_module_version": "1.5.0",
            "_model_name": "ProgressStyleModel",
            "_view_count": null,
            "_view_module": "@jupyter-widgets/base",
            "_view_module_version": "1.2.0",
            "_view_name": "StyleView",
            "bar_color": null,
            "description_width": ""
          }
        },
        "ce3daedcae4a4004b09a61d5494f8f7d": {
          "model_module": "@jupyter-widgets/controls",
          "model_module_version": "1.5.0",
          "model_name": "ProgressStyleModel",
          "state": {
            "_model_module": "@jupyter-widgets/controls",
            "_model_module_version": "1.5.0",
            "_model_name": "ProgressStyleModel",
            "_view_count": null,
            "_view_module": "@jupyter-widgets/base",
            "_view_module_version": "1.2.0",
            "_view_name": "StyleView",
            "bar_color": null,
            "description_width": ""
          }
        },
        "d01a1bc795b2479d925ee4db152a8af7": {
          "model_module": "@jupyter-widgets/base",
          "model_module_version": "1.2.0",
          "model_name": "LayoutModel",
          "state": {
            "_model_module": "@jupyter-widgets/base",
            "_model_module_version": "1.2.0",
            "_model_name": "LayoutModel",
            "_view_count": null,
            "_view_module": "@jupyter-widgets/base",
            "_view_module_version": "1.2.0",
            "_view_name": "LayoutView",
            "align_content": null,
            "align_items": null,
            "align_self": null,
            "border": null,
            "bottom": null,
            "display": null,
            "flex": null,
            "flex_flow": null,
            "grid_area": null,
            "grid_auto_columns": null,
            "grid_auto_flow": null,
            "grid_auto_rows": null,
            "grid_column": null,
            "grid_gap": null,
            "grid_row": null,
            "grid_template_areas": null,
            "grid_template_columns": null,
            "grid_template_rows": null,
            "height": null,
            "justify_content": null,
            "justify_items": null,
            "left": null,
            "margin": null,
            "max_height": null,
            "max_width": null,
            "min_height": null,
            "min_width": null,
            "object_fit": null,
            "object_position": null,
            "order": null,
            "overflow": null,
            "overflow_x": null,
            "overflow_y": null,
            "padding": null,
            "right": null,
            "top": null,
            "visibility": null,
            "width": null
          }
        },
        "d7a3eb801bad4d219369c0ab92b39eb5": {
          "model_module": "@jupyter-widgets/controls",
          "model_module_version": "1.5.0",
          "model_name": "HTMLModel",
          "state": {
            "_dom_classes": [],
            "_model_module": "@jupyter-widgets/controls",
            "_model_module_version": "1.5.0",
            "_model_name": "HTMLModel",
            "_view_count": null,
            "_view_module": "@jupyter-widgets/controls",
            "_view_module_version": "1.5.0",
            "_view_name": "HTMLView",
            "description": "",
            "description_tooltip": null,
            "layout": "IPY_MODEL_6339964802d841b99ca0c2e856187552",
            "placeholder": "​",
            "style": "IPY_MODEL_5943300b53cb49fa8f3c0adc73c37f86",
            "value": "tokenizer_config.json: 100%"
          }
        },
        "df2f27a724b240999911cb06f2d11c5d": {
          "model_module": "@jupyter-widgets/controls",
          "model_module_version": "1.5.0",
          "model_name": "DescriptionStyleModel",
          "state": {
            "_model_module": "@jupyter-widgets/controls",
            "_model_module_version": "1.5.0",
            "_model_name": "DescriptionStyleModel",
            "_view_count": null,
            "_view_module": "@jupyter-widgets/base",
            "_view_module_version": "1.2.0",
            "_view_name": "StyleView",
            "description_width": ""
          }
        },
        "e64f0caa6eef4fc5bb5db1f5b1c0a8bc": {
          "model_module": "@jupyter-widgets/controls",
          "model_module_version": "1.5.0",
          "model_name": "HTMLModel",
          "state": {
            "_dom_classes": [],
            "_model_module": "@jupyter-widgets/controls",
            "_model_module_version": "1.5.0",
            "_model_name": "HTMLModel",
            "_view_count": null,
            "_view_module": "@jupyter-widgets/controls",
            "_view_module_version": "1.5.0",
            "_view_name": "HTMLView",
            "description": "",
            "description_tooltip": null,
            "layout": "IPY_MODEL_bfb24ebb37444f809890f6c8e90e5150",
            "placeholder": "​",
            "style": "IPY_MODEL_227907a73a5444708c67c4d3b95d7335",
            "value": " 26.0/26.0 [00:00&lt;00:00, 687B/s]"
          }
        },
        "eed11f0f6a984804ab2aaaba0d871044": {
          "model_module": "@jupyter-widgets/base",
          "model_module_version": "1.2.0",
          "model_name": "LayoutModel",
          "state": {
            "_model_module": "@jupyter-widgets/base",
            "_model_module_version": "1.2.0",
            "_model_name": "LayoutModel",
            "_view_count": null,
            "_view_module": "@jupyter-widgets/base",
            "_view_module_version": "1.2.0",
            "_view_name": "LayoutView",
            "align_content": null,
            "align_items": null,
            "align_self": null,
            "border": null,
            "bottom": null,
            "display": null,
            "flex": null,
            "flex_flow": null,
            "grid_area": null,
            "grid_auto_columns": null,
            "grid_auto_flow": null,
            "grid_auto_rows": null,
            "grid_column": null,
            "grid_gap": null,
            "grid_row": null,
            "grid_template_areas": null,
            "grid_template_columns": null,
            "grid_template_rows": null,
            "height": null,
            "justify_content": null,
            "justify_items": null,
            "left": null,
            "margin": null,
            "max_height": null,
            "max_width": null,
            "min_height": null,
            "min_width": null,
            "object_fit": null,
            "object_position": null,
            "order": null,
            "overflow": null,
            "overflow_x": null,
            "overflow_y": null,
            "padding": null,
            "right": null,
            "top": null,
            "visibility": null,
            "width": null
          }
        },
        "f069133bfdcf49a18701b48bf2eb4e61": {
          "model_module": "@jupyter-widgets/base",
          "model_module_version": "1.2.0",
          "model_name": "LayoutModel",
          "state": {
            "_model_module": "@jupyter-widgets/base",
            "_model_module_version": "1.2.0",
            "_model_name": "LayoutModel",
            "_view_count": null,
            "_view_module": "@jupyter-widgets/base",
            "_view_module_version": "1.2.0",
            "_view_name": "LayoutView",
            "align_content": null,
            "align_items": null,
            "align_self": null,
            "border": null,
            "bottom": null,
            "display": null,
            "flex": null,
            "flex_flow": null,
            "grid_area": null,
            "grid_auto_columns": null,
            "grid_auto_flow": null,
            "grid_auto_rows": null,
            "grid_column": null,
            "grid_gap": null,
            "grid_row": null,
            "grid_template_areas": null,
            "grid_template_columns": null,
            "grid_template_rows": null,
            "height": null,
            "justify_content": null,
            "justify_items": null,
            "left": null,
            "margin": null,
            "max_height": null,
            "max_width": null,
            "min_height": null,
            "min_width": null,
            "object_fit": null,
            "object_position": null,
            "order": null,
            "overflow": null,
            "overflow_x": null,
            "overflow_y": null,
            "padding": null,
            "right": null,
            "top": null,
            "visibility": null,
            "width": null
          }
        },
        "f3bacb4d85f64ca8ac66abce0afc902c": {
          "model_module": "@jupyter-widgets/base",
          "model_module_version": "1.2.0",
          "model_name": "LayoutModel",
          "state": {
            "_model_module": "@jupyter-widgets/base",
            "_model_module_version": "1.2.0",
            "_model_name": "LayoutModel",
            "_view_count": null,
            "_view_module": "@jupyter-widgets/base",
            "_view_module_version": "1.2.0",
            "_view_name": "LayoutView",
            "align_content": null,
            "align_items": null,
            "align_self": null,
            "border": null,
            "bottom": null,
            "display": null,
            "flex": null,
            "flex_flow": null,
            "grid_area": null,
            "grid_auto_columns": null,
            "grid_auto_flow": null,
            "grid_auto_rows": null,
            "grid_column": null,
            "grid_gap": null,
            "grid_row": null,
            "grid_template_areas": null,
            "grid_template_columns": null,
            "grid_template_rows": null,
            "height": null,
            "justify_content": null,
            "justify_items": null,
            "left": null,
            "margin": null,
            "max_height": null,
            "max_width": null,
            "min_height": null,
            "min_width": null,
            "object_fit": null,
            "object_position": null,
            "order": null,
            "overflow": null,
            "overflow_x": null,
            "overflow_y": null,
            "padding": null,
            "right": null,
            "top": null,
            "visibility": null,
            "width": null
          }
        },
        "f462e47bd4794445a1eb2522e6defeaa": {
          "model_module": "@jupyter-widgets/controls",
          "model_module_version": "1.5.0",
          "model_name": "DescriptionStyleModel",
          "state": {
            "_model_module": "@jupyter-widgets/controls",
            "_model_module_version": "1.5.0",
            "_model_name": "DescriptionStyleModel",
            "_view_count": null,
            "_view_module": "@jupyter-widgets/base",
            "_view_module_version": "1.2.0",
            "_view_name": "StyleView",
            "description_width": ""
          }
        }
      }
    }
  },
  "nbformat": 4,
  "nbformat_minor": 5
}
